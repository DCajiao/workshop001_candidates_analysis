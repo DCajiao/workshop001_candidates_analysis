{
 "cells": [
  {
   "cell_type": "markdown",
   "metadata": {},
   "source": [
    "#### **First Step**: Write the queries for the PostgreSQL database based on the data.\n"
   ]
  },
  {
   "cell_type": "markdown",
   "metadata": {},
   "source": [
    "Task:\n",
    "\n",
    "- Identify the data types to write the database `schema.sql`\n",
    "- Transfer the data from the CSV to a query that allows me to insert all the `seed_data.sql`\n"
   ]
  },
  {
   "cell_type": "code",
   "execution_count": 1,
   "metadata": {},
   "outputs": [
    {
     "name": "stderr",
     "output_type": "stream",
     "text": [
      "INFO:root:Loading CSV file ../data/raw/candidates.csv\n",
      "INFO:root:Generating schema for candidates\n",
      "INFO:root:Infering SQL type for object\n",
      "INFO:root:Infering SQL type for object\n",
      "INFO:root:Infering SQL type for object\n",
      "INFO:root:Infering SQL type for object\n",
      "INFO:root:Infering SQL type for object\n",
      "INFO:root:Infering SQL type for int64\n",
      "INFO:root:Infering SQL type for object\n",
      "INFO:root:Infering SQL type for object\n",
      "INFO:root:Infering SQL type for int64\n",
      "INFO:root:Infering SQL type for int64\n",
      "INFO:root:Generating seed data for candidates\n"
     ]
    }
   ],
   "source": [
    "import pandas as pd\n",
    "import numpy as np\n",
    "\n",
    "import logging\n",
    "\n",
    "logging.basicConfig(level=logging.INFO)\n",
    "\n",
    "\n",
    "def infer_sql_type(dtype):\n",
    "    \"\"\"\n",
    "    Infers the corresponding SQL data type for a given pandas dtype.\n",
    "\n",
    "    Args:\n",
    "        dtype (numpy.dtype): The data type of the pandas DataFrame column.\n",
    "\n",
    "    Returns:\n",
    "        str: The inferred SQL data type as a string. Possible values include \"INTEGER\", \n",
    "        \"FLOAT\", \"BOOLEAN\", \"TIMESTAMP\", or \"TEXT\".\n",
    "    \"\"\"\n",
    "    logging.info(f\"Infering SQL type for {dtype}\")\n",
    "    if np.issubdtype(dtype, np.integer):\n",
    "        return \"INTEGER\"\n",
    "    elif np.issubdtype(dtype, np.floating):\n",
    "        return \"FLOAT\"\n",
    "    elif np.issubdtype(dtype, np.bool_):\n",
    "        return \"BOOLEAN\"\n",
    "    elif np.issubdtype(dtype, np.datetime64):\n",
    "        return \"TIMESTAMP\"\n",
    "    else:\n",
    "        return \"TEXT\"\n",
    "\n",
    "\n",
    "def generate_schema(df, table_name='my_table'):\n",
    "    \"\"\"\n",
    "    Generates a SQL schema for a given pandas DataFrame.\n",
    "\n",
    "    Args:\n",
    "        df (pandas.DataFrame): The DataFrame for which the schema is to be generated.\n",
    "        table_name (str, optional): The name of the SQL table. Defaults to 'my_table'.\n",
    "\n",
    "    Returns:\n",
    "        str: A string containing the SQL statement to create the table with the inferred \n",
    "        column types.\n",
    "    \"\"\"\n",
    "    logging.info(f\"Generating schema for {table_name}\")\n",
    "    columns = []\n",
    "    for col in df.columns:\n",
    "        col_type = infer_sql_type(df[col].dtype)\n",
    "        columns.append(f'\"{col}\" {col_type}')\n",
    "    schema = f\"CREATE TABLE IF NOT EXISTS {table_name} (\\n\" + \",\\n\".join(columns) + \"\\n);\"\n",
    "    return schema\n",
    "\n",
    "\n",
    "def generate_seed_data(df, table_name='candidates'):\n",
    "    \"\"\"\n",
    "    Generates SQL insert statements to seed data into a SQL table.\n",
    "\n",
    "    Args:\n",
    "        df (pandas.DataFrame): The DataFrame containing the data to be inserted.\n",
    "        table_name (str, optional): The name of the SQL table. Defaults to 'my_table'.\n",
    "\n",
    "    Returns:\n",
    "        str: A string containing multiple SQL insert statements to seed the data into the table.\n",
    "    \"\"\"\n",
    "    logging.info(f\"Generating seed data for {table_name}\")\n",
    "    insert_statements = []\n",
    "    for _, row in df.iterrows():\n",
    "        values = []\n",
    "        for value in row:\n",
    "            if pd.isna(value):\n",
    "                values.append(\"NULL\")\n",
    "            elif isinstance(value, str):\n",
    "                values.append(f\"'{value.replace('\\'', '\\'\\'')}'\")\n",
    "            else:\n",
    "                values.append(str(value))\n",
    "        insert_statements.append(\n",
    "            f\"INSERT INTO {table_name} VALUES (\" + \", \".join(values) + \");\")\n",
    "    return \"\\n\".join(insert_statements)\n",
    "\n",
    "\n",
    "def main(csv_file, schema_file, seed_file, table_name, delimiter):\n",
    "    \"\"\"\n",
    "    Main function to load a CSV file, generate a SQL schema and seed data, and save them to files.\n",
    "\n",
    "    Args:\n",
    "        csv_file (str): Path to the input CSV file.\n",
    "        schema_file (str): Path to the output file where the SQL schema will be saved.\n",
    "        seed_file (str): Path to the output file where the SQL seed data will be saved.\n",
    "        table_name (str): Name of the SQL table to be created and seeded.\n",
    "        delimiter (str): Delimiter used in the CSV file.\n",
    "\n",
    "    Returns:\n",
    "        None\n",
    "    \"\"\"\n",
    "\n",
    "    # Load the CSV file\n",
    "    logging.info(f\"Loading CSV file {csv_file}\")\n",
    "    df = pd.read_csv(csv_file, delimiter=delimiter)\n",
    "    df.columns = df.columns.str.replace(' ', '_')\n",
    "\n",
    "    # Generate the SQL schema\n",
    "    schema = generate_schema(df, table_name)\n",
    "    with open(schema_file, 'w') as f:\n",
    "        f.write(schema)\n",
    "\n",
    "    # Generate the SQL seed data\n",
    "    seed_data = generate_seed_data(df, table_name)\n",
    "    with open(seed_file, 'w') as f:\n",
    "        f.write(seed_data)\n",
    "\n",
    "\n",
    "if __name__ == \"__main__\":\n",
    "    main(csv_file='../data/raw/candidates.csv', schema_file='../sql/schema.sql',\n",
    "         seed_file='../sql/seed_data.sql', table_name='candidates', delimiter=';')"
   ]
  },
  {
   "cell_type": "markdown",
   "metadata": {},
   "source": [
    "---\n"
   ]
  },
  {
   "cell_type": "markdown",
   "metadata": {},
   "source": [
    "#### **Second Step**: Upload data to database\n"
   ]
  },
  {
   "cell_type": "markdown",
   "metadata": {},
   "source": [
    "Task:\n",
    "\n",
    "- Import db class to use connector\n",
    "- Establish connection and execute the queries to create the schema and send the data.\n",
    "- Validate that the table has been created and that all records have been loaded.\n"
   ]
  },
  {
   "cell_type": "code",
   "execution_count": 2,
   "metadata": {},
   "outputs": [],
   "source": [
    "import sys\n",
    "import os\n",
    "\n",
    "# Add the 'src' folder to sys.path\n",
    "sys.path.append(os.path.abspath(os.path.join('..', 'src')))\n",
    "\n",
    "from connections.db import DB\n",
    "db = DB()"
   ]
  },
  {
   "cell_type": "code",
   "execution_count": 3,
   "metadata": {},
   "outputs": [
    {
     "name": "stderr",
     "output_type": "stream",
     "text": [
      "INFO:root:✔ Connected to database\n",
      "INFO:root:✔ Query executed\n",
      "INFO:root:✔ Cursor closed\n",
      "INFO:root:✔ Connection closed\n"
     ]
    }
   ],
   "source": [
    "# Remove the table if it already exists\n",
    "db.execute(\"../sql/queries/002_drop_tables.sql\")"
   ]
  },
  {
   "cell_type": "code",
   "execution_count": 4,
   "metadata": {},
   "outputs": [
    {
     "name": "stderr",
     "output_type": "stream",
     "text": [
      "INFO:root:✔ Connected to database\n",
      "INFO:root:✔ Query executed\n",
      "INFO:root:✔ Cursor closed\n",
      "INFO:root:✔ Connection closed\n"
     ]
    }
   ],
   "source": [
    "# Create schema\n",
    "db.execute(\"../sql/schema.sql\")"
   ]
  },
  {
   "cell_type": "code",
   "execution_count": 5,
   "metadata": {},
   "outputs": [
    {
     "name": "stderr",
     "output_type": "stream",
     "text": [
      "INFO:root:✔ Connected to database\n",
      "INFO:root:✔ Query executed\n",
      "INFO:root:✔ Cursor closed\n",
      "INFO:root:✔ Connection closed\n"
     ]
    }
   ],
   "source": [
    "# Seed data\n",
    "db.execute(\"../sql/seed_data.sql\")"
   ]
  },
  {
   "cell_type": "code",
   "execution_count": 6,
   "metadata": {},
   "outputs": [
    {
     "name": "stderr",
     "output_type": "stream",
     "text": [
      "INFO:root:✔ Connected to database\n",
      "INFO:root:✔ Query executed\n",
      "INFO:root:✔ Cursor closed\n",
      "INFO:root:✔ Connection closed\n"
     ]
    },
    {
     "data": {
      "text/plain": [
       "[('candidates',)]"
      ]
     },
     "execution_count": 6,
     "metadata": {},
     "output_type": "execute_result"
    }
   ],
   "source": [
    "# View tables\n",
    "db.execute(\"../sql/queries/001_view_tables.sql\")"
   ]
  },
  {
   "cell_type": "code",
   "execution_count": 7,
   "metadata": {},
   "outputs": [
    {
     "name": "stderr",
     "output_type": "stream",
     "text": [
      "INFO:root:✔ Connected to database\n",
      "INFO:root:✔ Query executed\n",
      "INFO:root:✔ Cursor closed\n",
      "INFO:root:✔ Connection closed\n"
     ]
    },
    {
     "data": {
      "text/plain": [
       "[('public.candidates', 50000)]"
      ]
     },
     "execution_count": 7,
     "metadata": {},
     "output_type": "execute_result"
    }
   ],
   "source": [
    "# View size of tables\n",
    "db.execute(\"../sql/queries/003_view_tables_sizes.sql\")"
   ]
  },
  {
   "cell_type": "markdown",
   "metadata": {},
   "source": [
    "---\n"
   ]
  },
  {
   "cell_type": "markdown",
   "metadata": {},
   "source": [
    "#### **Results**:\n"
   ]
  },
  {
   "cell_type": "markdown",
   "metadata": {},
   "source": [
    "- Created the query to define the database schema based on the data.\n",
    "- Created the query to insert the data seed to the database.\n",
    "- Connection established with the database.\n",
    "- Creation of table with the defined schema.\n",
    "- Upload data to the table.\n"
   ]
  },
  {
   "cell_type": "markdown",
   "metadata": {},
   "source": [
    "---\n"
   ]
  }
 ],
 "metadata": {
  "kernelspec": {
   "display_name": ".venv",
   "language": "python",
   "name": "python3"
  },
  "language_info": {
   "codemirror_mode": {
    "name": "ipython",
    "version": 3
   },
   "file_extension": ".py",
   "mimetype": "text/x-python",
   "name": "python",
   "nbconvert_exporter": "python",
   "pygments_lexer": "ipython3",
   "version": "3.12.1"
  }
 },
 "nbformat": 4,
 "nbformat_minor": 2
}
